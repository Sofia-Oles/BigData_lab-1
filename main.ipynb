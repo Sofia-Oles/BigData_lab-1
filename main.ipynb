{
  "cells": [
    {
      "cell_type": "markdown",
      "source": [
        "**LAB 1 - Oleskevych Sofia, CS-314**\n",
        "\n",
        "\n",
        "---\n",
        "\n",
        "\n",
        "\n",
        "***Analysis part***\n",
        "\n",
        "I loaded “movies_metadata.csv” and ”ratings.csv” (or ratings_small.csv) as spark dataframes https://www.kaggle.com/rounakbanik/the-movies-dataset/data\n",
        "\n",
        "Saved them to Google Drive, mounted GD to my colab notebook.\n",
        "\n",
        "Using Python + Pyspark performed basic investigation and printed out summary (are there any missing values; How many records; How many unique users are there)\n",
        "\n",
        "\n",
        "---\n",
        "\n",
        "\n",
        "***Preprocessing part***\n",
        "\n",
        "Using pyspark DataFrame API transform data loaded on a previous step to create MovieProfile and UserProfile entities with following schemas: \n",
        "\n",
        "\n",
        "---\n",
        "\n",
        "\n",
        "**MovieProfile entity schema**:\n",
        "\n",
        "•\tMovieId - id of the movie\n",
        "\n",
        "•\tMovieName - name of the movie\n",
        "\n",
        "•\tMovieRating - average from all the user ratings for the movie\n",
        "\n",
        "•\tGenres - a string with the comma separated genres for the movie\n",
        "\n",
        "\n",
        "\n",
        "---\n",
        "\n",
        "\n",
        "\n",
        "**UserProfile entity schema**:\n",
        "\n",
        "•\tUserId - id of the user\n",
        "\n",
        "•\tNumberOfMarks - how many marks user left\n",
        "\n",
        "•\tYearsSpent - how many years has passed since the first mark\n",
        "\n",
        "•\tAvgMark - average user mark\n",
        "\n",
        "•\tAvgTimeBetweenMarks - how often user watches movies - how many time in average user spends between the marks in days (if I have 3 marks on the next dates: 21.07, 23.07 and 27.07, I will have (2 + 4) / 2 = 3 days in average)\n",
        "\n",
        "•\tFavoriteGenre - favorite genre of a user (my own implementation)\n",
        "\n",
        "\n",
        "\n"
      ],
      "metadata": {
        "id": "52Vt6S2oa8WY"
      }
    },
    {
      "cell_type": "code",
      "execution_count": null,
      "metadata": {
        "colab": {
          "base_uri": "https://localhost:8080/"
        },
        "id": "pZc-vWZRdDg2",
        "outputId": "c098e09e-6fd8-40c3-d142-76b3fc2cf5e4"
      },
      "outputs": [
        {
          "output_type": "stream",
          "name": "stdout",
          "text": [
            "Collecting pyspark\n",
            "  Downloading pyspark-3.2.0.tar.gz (281.3 MB)\n",
            "\u001b[K     |████████████████████████████████| 281.3 MB 38 kB/s \n",
            "\u001b[?25hCollecting py4j==0.10.9.2\n",
            "  Downloading py4j-0.10.9.2-py2.py3-none-any.whl (198 kB)\n",
            "\u001b[K     |████████████████████████████████| 198 kB 54.0 MB/s \n",
            "\u001b[?25hBuilding wheels for collected packages: pyspark\n",
            "  Building wheel for pyspark (setup.py) ... \u001b[?25l\u001b[?25hdone\n",
            "  Created wheel for pyspark: filename=pyspark-3.2.0-py2.py3-none-any.whl size=281805911 sha256=6a469632ace108a299c865203d9270c1328d44379d6fb9f35eb70a9a1dc4f262\n",
            "  Stored in directory: /root/.cache/pip/wheels/0b/de/d2/9be5d59d7331c6c2a7c1b6d1a4f463ce107332b1ecd4e80718\n",
            "Successfully built pyspark\n",
            "Installing collected packages: py4j, pyspark\n",
            "Successfully installed py4j-0.10.9.2 pyspark-3.2.0\n"
          ]
        }
      ],
      "source": [
        "!pip install pyspark"
      ]
    },
    {
      "cell_type": "code",
      "execution_count": null,
      "metadata": {
        "id": "6Du0sYjedS8W"
      },
      "outputs": [],
      "source": [
        "from pyspark.sql import SparkSession\n",
        "\n",
        "spark = SparkSession.builder.getOrCreate()"
      ]
    },
    {
      "cell_type": "code",
      "execution_count": null,
      "metadata": {
        "colab": {
          "base_uri": "https://localhost:8080/"
        },
        "id": "wFYEAN6xUrXS",
        "outputId": "40ac4f88-3143-4f79-8e4f-f5034fa31f87"
      },
      "outputs": [
        {
          "output_type": "stream",
          "name": "stdout",
          "text": [
            "Mounted at /content/drive\n"
          ]
        }
      ],
      "source": [
        "from google.colab import drive\n",
        "drive.mount('/content/drive')"
      ]
    },
    {
      "cell_type": "code",
      "execution_count": null,
      "metadata": {
        "id": "mx2OJCxnlMg-"
      },
      "outputs": [],
      "source": [
        "raw_df = spark.read.option(\"header\", \"true\").option(\"encoding\", \"UTF-8\").csv(\"/content/drive/MyDrive/ColabNotebooks/movies_metadata.csv\")\n",
        "raw_df2 = spark.read.option(\"header\", \"true\").csv(\"/content/drive/MyDrive/ColabNotebooks/ratings.csv\")"
      ]
    },
    {
      "cell_type": "code",
      "execution_count": null,
      "metadata": {
        "colab": {
          "base_uri": "https://localhost:8080/"
        },
        "id": "QdgGgbYN8WuD",
        "outputId": "bc220fd5-ca29-4e03-c017-e68c9cbe86af"
      },
      "outputs": [
        {
          "output_type": "stream",
          "name": "stdout",
          "text": [
            "+-----+---------------------+--------+--------------------+--------------------+-----+---------+-----------------+--------------------+--------------------+----------+--------------------+--------------------+--------------------+--------------------+--------------------+--------------------+--------------------+--------+--------------------+--------------------+--------+--------------------+-----------------+\n",
            "|adult|belongs_to_collection|  budget|              genres|            homepage|   id|  imdb_id|original_language|      original_title|            overview|popularity|         poster_path|production_companies|production_countries|        release_date|             revenue|             runtime|    spoken_languages|  status|             tagline|               title|   video|        vote_average|       vote_count|\n",
            "+-----+---------------------+--------+--------------------+--------------------+-----+---------+-----------------+--------------------+--------------------+----------+--------------------+--------------------+--------------------+--------------------+--------------------+--------------------+--------------------+--------+--------------------+--------------------+--------+--------------------+-----------------+\n",
            "|False| {'id': 10194, 'na...|30000000|[{'id': 16, 'name...|http://toystory.d...|  862|tt0114709|               en|           Toy Story|Led by Woody, And...| 21.946943|/rhIRbceoE9lR4veE...|[{'name': 'Pixar ...|[{'iso_3166_1': '...|          1995-10-30|           373554033|                81.0|[{'iso_639_1': 'e...|Released|                null|           Toy Story|   False|                 7.7|             5415|\n",
            "|False|                 null|65000000|[{'id': 12, 'name...|                null| 8844|tt0113497|               en|             Jumanji|When siblings Jud...| 17.015539|/vzmL6fP7aPKNKPRT...|[{'name': 'TriSta...|[{'iso_3166_1': '...|          1995-12-15|           262797249|               104.0|[{'iso_639_1': 'e...|Released|Roll the dice and...|             Jumanji|   False|                 6.9|             2413|\n",
            "|False| {'id': 119050, 'n...|       0|[{'id': 10749, 'n...|                null|15602|tt0113228|               en|    Grumpier Old Men|A family wedding ...|   11.7129|/6ksm1sjKMFLbO7UY...|[{'name': 'Warner...|[{'iso_3166_1': '...|          1995-12-22|                   0|               101.0|[{'iso_639_1': 'e...|Released|Still Yelling. St...|    Grumpier Old Men|   False|                 6.5|               92|\n",
            "|False|                 null|16000000|[{'id': 35, 'name...|                null|31357|tt0114885|               en|   Waiting to Exhale|\"Cheated on, mist...|    Bernie| Glo and Robin ta...| determined to fi...|            3.859495|/16XOMpEaLWkrcPqS...|[{'name': 'Twenti...|[{'iso_3166_1': '...|          1995-12-22|81452156|               127.0|[{'iso_639_1': 'e...|Released|Friends are the p...|Waiting to Exhale|\n",
            "|False| {'id': 96871, 'na...|       0|[{'id': 35, 'name...|                null|11862|tt0113041|               en|Father of the Bri...|Just when George ...|  8.387519|/e64sOI48hQXyru7n...|[{'name': 'Sandol...|[{'iso_3166_1': '...|          1995-02-10|            76578911|               106.0|[{'iso_639_1': 'e...|Released|Just When His Wor...|Father of the Bri...|   False|                 5.7|              173|\n",
            "|False|                 null|60000000|[{'id': 28, 'name...|                null|  949|tt0113277|               en|                Heat|Obsessive master ...| 17.924927|/zMyfPUelumio3tiD...|[{'name': 'Regenc...|[{'iso_3166_1': '...|          1995-12-15|           187436818|               170.0|[{'iso_639_1': 'e...|Released|A Los Angeles Cri...|                Heat|   False|                 7.7|             1886|\n",
            "|False|                 null|58000000|[{'id': 35, 'name...|                null|11860|tt0114319|               en|             Sabrina|An ugly duckling ...|  6.677277|/jQh15y5YB7bWz1Nt...|[{'name': 'Paramo...|[{'iso_3166_1': '...|          1995-12-15|                   0|               127.0|[{'iso_639_1': 'f...|Released|You are cordially...|             Sabrina|   False|                 6.2|              141|\n",
            "|False|                 null|       0|[{'id': 28, 'name...|                null|45325|tt0112302|               en|        Tom and Huck|A mischievous you...|  2.561161|/sGO5Qa55p7wTu7FJ...|[{'name': 'Walt D...|[{'iso_3166_1': '...|          1995-12-22|                   0|                97.0|[{'iso_639_1': 'e...|Released|The Original Bad ...|        Tom and Huck|   False|                 5.4|               45|\n",
            "|False|                 null|35000000|[{'id': 28, 'name...|                null| 9091|tt0114576|               en|        Sudden Death|International act...|   5.23158|/eoWvKD60lT95Ss1M...|[{'name': 'Univer...|[{'iso_3166_1': '...|          1995-12-22|            64350171|               106.0|[{'iso_639_1': 'e...|Released|Terror goes into ...|        Sudden Death|   False|                 5.5|              174|\n",
            "|False| {'id': 645, 'name...|58000000|[{'id': 12, 'name...|http://www.mgm.co...|  710|tt0113189|               en|           GoldenEye|James Bond must u...| 14.686036|/5c0ovjT41KnYIHYu...|[{'name': 'United...|[{'iso_3166_1': '...|          1995-11-16|           352194034|               130.0|[{'iso_639_1': 'e...|Released|No limits. No fea...|           GoldenEye|   False|                 6.6|             1194|\n",
            "|False|                 null|62000000|[{'id': 35, 'name...|                null| 9087|tt0112346|               en|The American Pres...|Widowed U.S. pres...|  6.318445|/lymPNGLZgPHuqM29...|[{'name': 'Columb...|[{'iso_3166_1': '...|          1995-11-17|           107879496|               106.0|[{'iso_639_1': 'e...|Released|Why can't the mos...|The American Pres...|   False|                 6.5|              199|\n",
            "|False|                 null|       0|[{'id': 35, 'name...|                null|12110|tt0112896|               en|Dracula: Dead and...|When a lawyer sho...|  5.430331|/xve4cgfYItnOhtzL...|[{'name': 'Columb...|[{'iso_3166_1': '...|          1995-12-22|                   0|                88.0|[{'iso_639_1': 'e...|Released|                null|Dracula: Dead and...|   False|                 5.7|              210|\n",
            "|False| {'id': 117693, 'n...|       0|[{'id': 10751, 'n...|                null|21032|tt0112453|               en|               Balto|An outcast half-w...| 12.140733|/gV5PCAVCPNxlOLFM...|[{'name': 'Univer...|[{'iso_3166_1': '...|          1995-12-22|            11348324|                78.0|[{'iso_639_1': 'e...|Released|Part Dog. Part Wo...|               Balto|   False|                 7.1|              423|\n",
            "|False|                 null|44000000|[{'id': 36, 'name...|                null|10858|tt0113987|               en|               Nixon|An all-star cast ...|     5.092|/cICkmCEiXRhvZmbu...|[{'name': 'Hollyw...|[{'iso_3166_1': '...|          1995-12-22|            13681765|               192.0|[{'iso_639_1': 'e...|Released|Triumphant in Vic...|               Nixon|   False|                 7.1|               72|\n",
            "|False|                 null|98000000|[{'id': 28, 'name...|                null| 1408|tt0112760|               en|    Cutthroat Island|Morgan Adams and ...|  7.284477|/odM9973kIv9hcjfH...|[{'name': 'Le Stu...|[{'iso_3166_1': '...|          1995-12-22|            10017322|               119.0|[{'iso_639_1': 'e...|Released|The Course Has Be...|    Cutthroat Island|   False|                 5.7|              137|\n",
            "|False|                 null|52000000|[{'id': 18, 'name...|                null|  524|tt0112641|               en|              Casino|The life of the g...| 10.137389|/xo517ibXBDdYQY81...|[{'name': 'Univer...|[{'iso_3166_1': '...|          1995-11-22|           116112375|               178.0|[{'iso_639_1': 'e...|Released|No one stays at t...|              Casino|   False|                 7.8|             1343|\n",
            "|False|                 null|16500000|[{'id': 18, 'name...|                null| 4584|tt0114388|               en|Sense and Sensibi...|Rich Mr. Dashwood...| 10.673167|/lA9HTy84Bb6ZwNey...|[{'name': 'Columb...|[{'iso_3166_1': '...|          1995-12-13|           135000000|               136.0|[{'iso_639_1': 'e...|Released|Lose your heart a...|Sense and Sensibi...|   False|                 7.2|              364|\n",
            "|False|                 null| 4000000|[{'id': 80, 'name...|                null|    5|tt0113101|               en|          Four Rooms|It's Ted the Bell...|  9.026586|/eQs5hh9rxrk1m4xH...|[{'name': 'Mirama...|[{'iso_3166_1': '...|          1995-12-09|             4300000|                98.0|[{'iso_639_1': 'e...|Released|Twelve outrageous...|          Four Rooms|   False|                 6.5|              539|\n",
            "|False| {'id': 3167, 'nam...|30000000|[{'id': 80, 'name...|                null| 9273|tt0112281|               en|Ace Ventura: When...|Summoned from an ...|  8.205448|/wRlGnJhEzcxBjvWt...|[{'name': 'O Ente...|[{'iso_3166_1': '...|          1995-11-10|           212385533|                90.0|[{'iso_639_1': 'e...|Released|New animals. New ...|Ace Ventura: When...|   False|                 6.1|             1128|\n",
            "|False|                 null|60000000|[{'id': 28, 'name...|                null|11517|tt0113845|               en|         Money Train|A vengeful New Yo...|  7.337906|/jSozzzVOR2kfXgTU...|[{'name': 'Columb...|[{'iso_3166_1': '...|          1995-11-21|            35431113|               103.0|[{'iso_639_1': 'e...|Released|Get on, or GET OU...|         Money Train|   False|                 5.4|              224|\n",
            "+-----+---------------------+--------+--------------------+--------------------+-----+---------+-----------------+--------------------+--------------------+----------+--------------------+--------------------+--------------------+--------------------+--------------------+--------------------+--------------------+--------+--------------------+--------------------+--------+--------------------+-----------------+\n",
            "only showing top 20 rows\n",
            "\n"
          ]
        }
      ],
      "source": [
        "raw_df.show()"
      ]
    },
    {
      "cell_type": "code",
      "execution_count": null,
      "metadata": {
        "colab": {
          "base_uri": "https://localhost:8080/"
        },
        "id": "NNrF8yURWUCU",
        "outputId": "16aeba70-440e-48c4-ea74-14a63d129b4b"
      },
      "outputs": [
        {
          "output_type": "stream",
          "name": "stdout",
          "text": [
            "+------+-------+------+----------+\n",
            "|userId|movieId|rating| timestamp|\n",
            "+------+-------+------+----------+\n",
            "|     1|    110|   1.0|1425941529|\n",
            "|     1|    147|   4.5|1425942435|\n",
            "|     1|    858|   5.0|1425941523|\n",
            "|     1|   1221|   5.0|1425941546|\n",
            "|     1|   1246|   5.0|1425941556|\n",
            "|     1|   1968|   4.0|1425942148|\n",
            "|     1|   2762|   4.5|1425941300|\n",
            "|     1|   2918|   5.0|1425941593|\n",
            "|     1|   2959|   4.0|1425941601|\n",
            "|     1|   4226|   4.0|1425942228|\n",
            "|     1|   4878|   5.0|1425941434|\n",
            "|     1|   5577|   5.0|1425941397|\n",
            "|     1|  33794|   4.0|1425942005|\n",
            "|     1|  54503|   3.5|1425941313|\n",
            "|     1|  58559|   4.0|1425942007|\n",
            "|     1|  59315|   5.0|1425941502|\n",
            "|     1|  68358|   5.0|1425941464|\n",
            "|     1|  69844|   5.0|1425942139|\n",
            "|     1|  73017|   5.0|1425942699|\n",
            "|     1|  81834|   5.0|1425942133|\n",
            "+------+-------+------+----------+\n",
            "only showing top 20 rows\n",
            "\n"
          ]
        }
      ],
      "source": [
        "raw_df2.show()"
      ]
    },
    {
      "cell_type": "code",
      "execution_count": null,
      "metadata": {
        "colab": {
          "base_uri": "https://localhost:8080/"
        },
        "id": "ZJFUqt11Yw9s",
        "outputId": "f7d394e6-7d95-458b-9744-39881a8a6993"
      },
      "outputs": [
        {
          "output_type": "stream",
          "name": "stdout",
          "text": [
            "root\n",
            " |-- adult: string (nullable = true)\n",
            " |-- belongs_to_collection: string (nullable = true)\n",
            " |-- budget: string (nullable = true)\n",
            " |-- genres: string (nullable = true)\n",
            " |-- homepage: string (nullable = true)\n",
            " |-- id: string (nullable = true)\n",
            " |-- imdb_id: string (nullable = true)\n",
            " |-- original_language: string (nullable = true)\n",
            " |-- original_title: string (nullable = true)\n",
            " |-- overview: string (nullable = true)\n",
            " |-- popularity: string (nullable = true)\n",
            " |-- poster_path: string (nullable = true)\n",
            " |-- production_companies: string (nullable = true)\n",
            " |-- production_countries: string (nullable = true)\n",
            " |-- release_date: string (nullable = true)\n",
            " |-- revenue: string (nullable = true)\n",
            " |-- runtime: string (nullable = true)\n",
            " |-- spoken_languages: string (nullable = true)\n",
            " |-- status: string (nullable = true)\n",
            " |-- tagline: string (nullable = true)\n",
            " |-- title: string (nullable = true)\n",
            " |-- video: string (nullable = true)\n",
            " |-- vote_average: string (nullable = true)\n",
            " |-- vote_count: string (nullable = true)\n",
            "\n"
          ]
        }
      ],
      "source": [
        "# investigate schema in tree format\n",
        "raw_df.printSchema()"
      ]
    },
    {
      "cell_type": "code",
      "execution_count": null,
      "metadata": {
        "colab": {
          "base_uri": "https://localhost:8080/"
        },
        "id": "3o9aGPepY-Uz",
        "outputId": "9c667d91-f743-4b8b-8c54-3d0748a3fe8d"
      },
      "outputs": [
        {
          "output_type": "execute_result",
          "data": {
            "text/plain": [
              "(45572, 26024289)"
            ]
          },
          "metadata": {},
          "execution_count": 9
        }
      ],
      "source": [
        "# count rows in dfs\n",
        "raw_df.count(), raw_df2.count()"
      ]
    },
    {
      "cell_type": "code",
      "execution_count": null,
      "metadata": {
        "colab": {
          "base_uri": "https://localhost:8080/"
        },
        "id": "f0NRonhOiFU4",
        "outputId": "02ca69a9-db4a-48eb-c81e-b8b325487b52"
      },
      "outputs": [
        {
          "output_type": "stream",
          "name": "stdout",
          "text": [
            "+----------------------+\n",
            "|count(DISTINCT userId)|\n",
            "+----------------------+\n",
            "|                270896|\n",
            "+----------------------+\n",
            "\n"
          ]
        }
      ],
      "source": [
        "# check unique users\n",
        "\n",
        "from pyspark.sql.functions import countDistinct, when, count, col, isnull, avg, aggregate\n",
        "\n",
        "raw_df2.select(countDistinct(\"userId\")).show()"
      ]
    },
    {
      "cell_type": "code",
      "execution_count": null,
      "metadata": {
        "colab": {
          "base_uri": "https://localhost:8080/"
        },
        "id": "ZEdBZoY7qVCe",
        "outputId": "2aa1669e-2ca5-44d6-aeb2-9e966665c69b"
      },
      "outputs": [
        {
          "output_type": "stream",
          "name": "stdout",
          "text": [
            "+-----+---------------------+------+------+--------+---+-------+-----------------+--------------+--------+----------+-----------+--------------------+--------------------+------------+-------+-------+----------------+------+-------+-----+-----+------------+----------+\n",
            "|adult|belongs_to_collection|budget|genres|homepage| id|imdb_id|original_language|original_title|overview|popularity|poster_path|production_companies|production_countries|release_date|revenue|runtime|spoken_languages|status|tagline|title|video|vote_average|vote_count|\n",
            "+-----+---------------------+------+------+--------+---+-------+-----------------+--------------+--------+----------+-----------+--------------------+--------------------+------------+-------+-------+----------------+------+-------+-----+-----+------------+----------+\n",
            "|    0|                40981|    17|    23|   37635| 31|    125|               45|            32|     985|       120|        481|                 124|                 120|         194|    136|    404|             164|   245|  23132|  778|  553|         498|       389|\n",
            "+-----+---------------------+------+------+--------+---+-------+-----------------+--------------+--------+----------+-----------+--------------------+--------------------+------------+-------+-------+----------------+------+-------+-----+-----+------------+----------+\n",
            "\n"
          ]
        }
      ],
      "source": [
        "# check missing values in raw_df in each column\n",
        "\n",
        "raw_df.select([count(when(isnull(c), c)).alias(c) for c in raw_df.columns]).show()"
      ]
    },
    {
      "cell_type": "code",
      "execution_count": null,
      "metadata": {
        "colab": {
          "base_uri": "https://localhost:8080/"
        },
        "id": "OH5kKPw-_YlI",
        "outputId": "bc03d317-ca83-43db-cccc-92d050c289a3"
      },
      "outputs": [
        {
          "output_type": "stream",
          "name": "stdout",
          "text": [
            "+------+-------+------+----------+\n",
            "|userId|movieId|rating| timestamp|\n",
            "+------+-------+------+----------+\n",
            "|     2|      5|   3.0| 867039249|\n",
            "|    40|      5|   4.0| 862515493|\n",
            "|    54|      5|   5.0| 986221889|\n",
            "|    56|      5|   4.0|1410105373|\n",
            "|    87|      5|   2.0| 867427886|\n",
            "|    91|      5|   3.0| 838546731|\n",
            "|    93|      5|   3.0| 835061814|\n",
            "|   101|      5|   4.0| 850689925|\n",
            "|   118|      5|   3.0| 859364983|\n",
            "|   142|      5|   2.0| 866388486|\n",
            "|   168|      5|   3.0| 850139631|\n",
            "|   179|      5|   3.0| 863713756|\n",
            "|   191|      5|   5.0| 854204045|\n",
            "|   196|      5|   4.0| 849688746|\n",
            "|   229|      5|   1.0|1037136141|\n",
            "|   250|      5|   3.0| 995420603|\n",
            "|   261|      5|   3.0| 864374769|\n",
            "|   296|      5|   3.5|1111987460|\n",
            "|   306|      5|   3.0| 846232643|\n",
            "|   317|      5|   3.0| 855147687|\n",
            "+------+-------+------+----------+\n",
            "only showing top 20 rows\n",
            "\n"
          ]
        }
      ],
      "source": [
        "# rows of raw_df2 (ratings) where MovieId is determined\n",
        "\n",
        "raw_df2.filter(raw_df2.movieId == 5).show()"
      ]
    },
    {
      "cell_type": "code",
      "execution_count": null,
      "metadata": {
        "id": "XVztn8VbKwwh"
      },
      "outputs": [],
      "source": [
        "# 1 - MovieProfile creation\n",
        "\n",
        "# cast the most important fields\n",
        "mv_id_name = raw_df.select(raw_df.id.cast('int').alias('movieId'), raw_df.title.cast('string').alias('movieName'))"
      ]
    },
    {
      "cell_type": "code",
      "execution_count": null,
      "metadata": {
        "colab": {
          "base_uri": "https://localhost:8080/"
        },
        "id": "R3H2fYqgs_ze",
        "outputId": "c11e4df5-b1b0-4bd1-df01-9d76a1c4caf1"
      },
      "outputs": [
        {
          "output_type": "execute_result",
          "data": {
            "text/plain": [
              "42842"
            ]
          },
          "metadata": {},
          "execution_count": 14
        }
      ],
      "source": [
        "# basic preprocessing ( null values and valid movieName with regex)\n",
        "\n",
        "def filtering(input_df):\n",
        "    return input_df.filter(input_df.movieName.rlike('[a-zA-Z]+')) # one or more alpha symbols to clean numbers\n",
        "\n",
        "def filtering2(input_df):   \n",
        "    return input_df.filter((input_df.movieName.startswith(\"[\")==False)&(mv_id_name.movieId.isNotNull())&(mv_id_name.movieName.isNotNull()))\n",
        "\n",
        "df_m = mv_id_name.transform(filtering).transform(filtering2)\n",
        "df_m.count()"
      ]
    },
    {
      "cell_type": "code",
      "execution_count": null,
      "metadata": {
        "colab": {
          "base_uri": "https://localhost:8080/"
        },
        "id": "KJcj2-8XYgfF",
        "outputId": "a8b89229-305a-4fe6-8331-85c8a9c82005"
      },
      "outputs": [
        {
          "output_type": "stream",
          "name": "stdout",
          "text": [
            "+-------+--------------------+\n",
            "|movieId|           movieName|\n",
            "+-------+--------------------+\n",
            "|    862|           Toy Story|\n",
            "|   8844|             Jumanji|\n",
            "|  15602|    Grumpier Old Men|\n",
            "|  11862|Father of the Bri...|\n",
            "|    949|                Heat|\n",
            "|  11860|             Sabrina|\n",
            "|  45325|        Tom and Huck|\n",
            "|   9091|        Sudden Death|\n",
            "|    710|           GoldenEye|\n",
            "|   9087|The American Pres...|\n",
            "|  12110|Dracula: Dead and...|\n",
            "|  21032|               Balto|\n",
            "|  10858|               Nixon|\n",
            "|   1408|    Cutthroat Island|\n",
            "|    524|              Casino|\n",
            "|   4584|Sense and Sensibi...|\n",
            "|      5|          Four Rooms|\n",
            "|   9273|Ace Ventura: When...|\n",
            "|  11517|         Money Train|\n",
            "|   1710|             Copycat|\n",
            "+-------+--------------------+\n",
            "only showing top 20 rows\n",
            "\n"
          ]
        }
      ],
      "source": [
        "df_m.show()"
      ]
    },
    {
      "cell_type": "code",
      "execution_count": null,
      "metadata": {
        "id": "ejaC9vN_jNk_"
      },
      "outputs": [],
      "source": [
        "# select and cast from raw_df2 dataframe\n",
        "\n",
        "mv_id_rate = raw_df2.select(raw_df2.movieId.cast('int').alias('movieId'), raw_df2.rating.cast('double').alias('movieRating'))"
      ]
    },
    {
      "cell_type": "code",
      "execution_count": null,
      "metadata": {
        "id": "Jg_lQ5yasLbV"
      },
      "outputs": [],
      "source": [
        "df_u = mv_id_rate.filter((mv_id_rate.movieId.isNotNull()) & (mv_id_rate.movieRating.isNotNull()))"
      ]
    },
    {
      "cell_type": "code",
      "execution_count": null,
      "metadata": {
        "id": "ldS_tR2dDew9"
      },
      "outputs": [],
      "source": [
        "# movie_id_name inner join movie_id_rating\n",
        "\n",
        "mv_id_name_rate = df_m.join(df_u, df_m.movieId==df_u.movieId, 'inner')\\\n",
        "  .select(df_m.movieId.alias('movieId'), df_m.movieName.alias('movieName'), df_u.movieRating)\\\n",
        "  .groupBy('movieId', 'movieName')\\\n",
        "  .agg(avg(df_u.movieRating).alias('movieRating'))\n"
      ]
    },
    {
      "cell_type": "code",
      "execution_count": null,
      "metadata": {
        "colab": {
          "base_uri": "https://localhost:8080/"
        },
        "id": "nst_TAnPFdBz",
        "outputId": "17360b78-8031-4fcc-ef02-8dd41a01a850"
      },
      "outputs": [
        {
          "output_type": "stream",
          "name": "stdout",
          "text": [
            "+-------+--------------------+------------------+\n",
            "|movieId|           movieName|       movieRating|\n",
            "+-------+--------------------+------------------+\n",
            "|     26|       Walk on Water| 3.614058355437666|\n",
            "|   3469|Far from the Madd...| 4.065651760228354|\n",
            "|   2029|              Tanguy| 3.463276836158192|\n",
            "|    681|Diamonds Are Forever|3.5798319327731094|\n",
            "|   5927|       Junior Bonner| 2.696526508226691|\n",
            "|   8327|   The Holy Mountain|3.8284424379232505|\n",
            "|   8094|The Magdalene Sis...| 3.815525876460768|\n",
            "|  81782|         Kurukshetra|3.3834776334776335|\n",
            "|  26792|      The Storm Gate|2.3130841121495327|\n",
            "|   5602|      The Common Man|3.7735602094240837|\n",
            "| 169864|      The Short Game| 3.247887323943662|\n",
            "|   4441|               Candy| 3.259450171821306|\n",
            "|   8653|            The Isle|2.5833333333333335|\n",
            "|  32078|Panic in the Streets| 2.909448818897638|\n",
            "|  26497|       Impy's Island|3.5555555555555554|\n",
            "|     33|          Unforgiven|3.0555555555555554|\n",
            "|   8744|    Albino Alligator|             3.125|\n",
            "|  53883|             Anjathe| 3.992574257425743|\n",
            "|   3073|Abbott and Costel...|3.3305555555555557|\n",
            "|  70342|Beats Rhymes & Li...| 3.779220779220779|\n",
            "+-------+--------------------+------------------+\n",
            "only showing top 20 rows\n",
            "\n"
          ]
        }
      ],
      "source": [
        "mv_id_name_rate.show()"
      ]
    },
    {
      "cell_type": "code",
      "execution_count": null,
      "metadata": {
        "colab": {
          "base_uri": "https://localhost:8080/"
        },
        "id": "qNL_TvAyFvGc",
        "outputId": "9141877b-10e2-437b-d330-716a0f1dc7c0"
      },
      "outputs": [
        {
          "output_type": "execute_result",
          "data": {
            "text/plain": [
              "45363"
            ]
          },
          "metadata": {},
          "execution_count": 21
        }
      ],
      "source": [
        "movie_id_genres = raw_df.select(raw_df.id.cast('int').alias('movieId'), raw_df.genres.alias('genres'))\n",
        "\n",
        "def filter_gen_id(input_df):   \n",
        "    return input_df.filter((input_df.movieId.isNotNull())&(input_df.genres.isNotNull()) )\n",
        "\n",
        "movie_id_genres = movie_id_genres.transform(filter_gen_id)\n",
        "movie_id_genres.count()"
      ]
    },
    {
      "cell_type": "code",
      "execution_count": null,
      "metadata": {
        "colab": {
          "base_uri": "https://localhost:8080/"
        },
        "id": "Bg85mxuoQvw_",
        "outputId": "4c021e39-b372-4af4-b642-6cafd7e4e2c1"
      },
      "outputs": [
        {
          "output_type": "stream",
          "name": "stdout",
          "text": [
            "+-------+--------------------+\n",
            "|movieId|              genres|\n",
            "+-------+--------------------+\n",
            "|    862|[\"Animation\",\"Com...|\n",
            "|   8844|[\"Adventure\",\"Fan...|\n",
            "|  15602|[\"Romance\",\"Comedy\"]|\n",
            "|  31357|[\"Comedy\",\"Drama\"...|\n",
            "|  11862|            \"Comedy\"|\n",
            "|    949|[\"Action\",\"Crime\"...|\n",
            "|  11860|[\"Comedy\",\"Romance\"]|\n",
            "|  45325|[\"Action\",\"Advent...|\n",
            "|   9091|[\"Action\",\"Advent...|\n",
            "|    710|[\"Adventure\",\"Act...|\n",
            "|   9087|[\"Comedy\",\"Drama\"...|\n",
            "|  12110| [\"Comedy\",\"Horror\"]|\n",
            "|  21032|[\"Family\",\"Animat...|\n",
            "|  10858| [\"History\",\"Drama\"]|\n",
            "|   1408|[\"Action\",\"Advent...|\n",
            "|    524|   [\"Drama\",\"Crime\"]|\n",
            "|   4584| [\"Drama\",\"Romance\"]|\n",
            "|      5|  [\"Crime\",\"Comedy\"]|\n",
            "|   9273|[\"Crime\",\"Comedy\"...|\n",
            "|  11517|[\"Action\",\"Comedy...|\n",
            "+-------+--------------------+\n",
            "only showing top 20 rows\n",
            "\n"
          ]
        }
      ],
      "source": [
        "import pyspark.sql.functions as f\n",
        "\n",
        "final_df = movie_id_genres.select('movieId', f.get_json_object('genres', '$[*].name').alias('genres'))\n",
        "\n",
        "final_df.show()"
      ]
    },
    {
      "cell_type": "code",
      "execution_count": null,
      "metadata": {
        "id": "uTVWwTr7emYZ"
      },
      "outputs": [],
      "source": [
        "from pyspark.sql.functions import col, concat_ws, split, regexp_replace\n",
        "\n",
        "movie_fin  = final_df.withColumn(\"genres\", regexp_replace(col(\"genres\"), '[\\\\[\\\\]\\\\\"]', \"\"))"
      ]
    },
    {
      "cell_type": "code",
      "execution_count": null,
      "metadata": {
        "colab": {
          "base_uri": "https://localhost:8080/"
        },
        "id": "wZeFJSbkHBtB",
        "outputId": "aed7d039-aeea-41d6-fb8d-7869548beab2"
      },
      "outputs": [
        {
          "output_type": "stream",
          "name": "stdout",
          "text": [
            "+-------+--------------------+\n",
            "|movieId|              genres|\n",
            "+-------+--------------------+\n",
            "|    862|Animation,Comedy,...|\n",
            "|   8844|Adventure,Fantasy...|\n",
            "|  15602|      Romance,Comedy|\n",
            "|  31357|Comedy,Drama,Romance|\n",
            "|  11862|              Comedy|\n",
            "|    949|Action,Crime,Dram...|\n",
            "|  11860|      Comedy,Romance|\n",
            "|  45325|Action,Adventure,...|\n",
            "|   9091|Action,Adventure,...|\n",
            "|    710|Adventure,Action,...|\n",
            "|   9087|Comedy,Drama,Romance|\n",
            "|  12110|       Comedy,Horror|\n",
            "|  21032|Family,Animation,...|\n",
            "|  10858|       History,Drama|\n",
            "|   1408|    Action,Adventure|\n",
            "|    524|         Drama,Crime|\n",
            "|   4584|       Drama,Romance|\n",
            "|      5|        Crime,Comedy|\n",
            "|   9273|Crime,Comedy,Adve...|\n",
            "|  11517| Action,Comedy,Crime|\n",
            "+-------+--------------------+\n",
            "only showing top 20 rows\n",
            "\n"
          ]
        }
      ],
      "source": [
        "movie_fin.show()"
      ]
    },
    {
      "cell_type": "code",
      "execution_count": null,
      "metadata": {
        "id": "vdqajU2oHZP1"
      },
      "outputs": [],
      "source": [
        "movie_profile = movie_fin.join(mv_id_name_rate, movie_fin.movieId==mv_id_name_rate.movieId)\\\n",
        "  .select(mv_id_name_rate.movieId, mv_id_name_rate.movieName,\\\n",
        "          mv_id_name_rate.movieRating, movie_fin.genres)"
      ]
    },
    {
      "cell_type": "code",
      "execution_count": null,
      "metadata": {
        "colab": {
          "base_uri": "https://localhost:8080/"
        },
        "id": "dtu_QTUcIGgd",
        "outputId": "676a7cff-5342-4b9a-c714-07dfd947cff9"
      },
      "outputs": [
        {
          "output_type": "stream",
          "name": "stdout",
          "text": [
            "+-------+--------------------+------------------+--------------------+\n",
            "|movieId|           movieName|       movieRating|              genres|\n",
            "+-------+--------------------+------------------+--------------------+\n",
            "|     26|       Walk on Water| 3.614058355437666|               Drama|\n",
            "|   3469|Far from the Madd...| 4.065651760228354|       Drama,Romance|\n",
            "|   2029|              Tanguy| 3.463276836158192|              Comedy|\n",
            "|    681|Diamonds Are Forever|3.5798319327731094|Adventure,Action,...|\n",
            "|   5927|       Junior Bonner| 2.696526508226691|Action,Drama,Western|\n",
            "|   8327|   The Holy Mountain|3.8284424379232505|               Drama|\n",
            "|   8094|The Magdalene Sis...| 3.815525876460768|               Drama|\n",
            "|  81782|         Kurukshetra|3.3834776334776335|                null|\n",
            "|  26792|      The Storm Gate|2.3130841121495327|       Drama,History|\n",
            "|   5602|      The Common Man|3.7735602094240837|      Drama,Thriller|\n",
            "| 169864|      The Short Game| 3.247887323943662|         Documentary|\n",
            "|   4441|               Candy| 3.259450171821306|       Drama,Romance|\n",
            "|   8653|            The Isle|2.5833333333333335|      Drama,Thriller|\n",
            "|  32078|Panic in the Streets| 2.909448818897638|Drama,Thriller,Crime|\n",
            "|  26497|       Impy's Island|3.5555555555555554|Animation,Family,...|\n",
            "|     33|          Unforgiven|3.0555555555555554|             Western|\n",
            "|   8744|    Albino Alligator|             3.125|Crime,Drama,Thriller|\n",
            "|  53883|             Anjathe| 3.992574257425743|        Action,Drama|\n",
            "|   3073|Abbott and Costel...|3.3305555555555557|       Comedy,Horror|\n",
            "|  70342|Beats Rhymes & Li...| 3.779220779220779|   Music,Documentary|\n",
            "+-------+--------------------+------------------+--------------------+\n",
            "only showing top 20 rows\n",
            "\n"
          ]
        }
      ],
      "source": [
        "# final preprocessed MovieProfile dataframe\n",
        "\n",
        "movie_profile.show()"
      ]
    },
    {
      "cell_type": "code",
      "execution_count": null,
      "metadata": {
        "id": "JGsIbR2mIp_V"
      },
      "outputs": [],
      "source": [
        "# 2 - UserProfile"
      ]
    },
    {
      "cell_type": "code",
      "execution_count": null,
      "metadata": {
        "colab": {
          "base_uri": "https://localhost:8080/"
        },
        "id": "srvM8D6nRdJA",
        "outputId": "abd47af1-a2e9-4a09-c6db-1059c79e342b"
      },
      "outputs": [
        {
          "output_type": "stream",
          "name": "stdout",
          "text": [
            "+------+-------+------+-------------------+\n",
            "|userId|movieId|rating|          timestamp|\n",
            "+------+-------+------+-------------------+\n",
            "|     1|    110|   1.0|2015-03-09 22:52:09|\n",
            "|     1|    147|   4.5|2015-03-09 23:07:15|\n",
            "|     1|    858|   5.0|2015-03-09 22:52:03|\n",
            "|     1|   1221|   5.0|2015-03-09 22:52:26|\n",
            "|     1|   1246|   5.0|2015-03-09 22:52:36|\n",
            "|     1|   1968|   4.0|2015-03-09 23:02:28|\n",
            "|     1|   2762|   4.5|2015-03-09 22:48:20|\n",
            "|     1|   2918|   5.0|2015-03-09 22:53:13|\n",
            "|     1|   2959|   4.0|2015-03-09 22:53:21|\n",
            "|     1|   4226|   4.0|2015-03-09 23:03:48|\n",
            "|     1|   4878|   5.0|2015-03-09 22:50:34|\n",
            "|     1|   5577|   5.0|2015-03-09 22:49:57|\n",
            "|     1|  33794|   4.0|2015-03-09 23:00:05|\n",
            "|     1|  54503|   3.5|2015-03-09 22:48:33|\n",
            "|     1|  58559|   4.0|2015-03-09 23:00:07|\n",
            "|     1|  59315|   5.0|2015-03-09 22:51:42|\n",
            "|     1|  68358|   5.0|2015-03-09 22:51:04|\n",
            "|     1|  69844|   5.0|2015-03-09 23:02:19|\n",
            "|     1|  73017|   5.0|2015-03-09 23:11:39|\n",
            "|     1|  81834|   5.0|2015-03-09 23:02:13|\n",
            "+------+-------+------+-------------------+\n",
            "only showing top 20 rows\n",
            "\n"
          ]
        }
      ],
      "source": [
        "from pyspark.sql.functions import col, min as min_, max as max_, from_utc_timestamp, from_unixtime\n",
        "\n",
        "raw_df2 = raw_df2.withColumn('timestamp', from_unixtime(raw_df2.timestamp).alias(\"timestamp\"))\n",
        "\n",
        "raw_df2.show()"
      ]
    },
    {
      "cell_type": "code",
      "execution_count": null,
      "metadata": {
        "id": "C9NDd76dOQ8L"
      },
      "outputs": [],
      "source": [
        "from pyspark.sql.functions import from_unixtime, to_timestamp\n",
        "\n",
        "df_user_marks = raw_df2.select(raw_df2.userId.alias('userId'), raw_df2.rating, raw_df2.timestamp)\\\n",
        "                               .groupBy('userId')\\\n",
        "                               .agg(count(raw_df2.rating).alias('numberOfMarks'),\\\n",
        "                                    avg(raw_df2.rating).alias('avgMark'),\\\n",
        "                                    min_(raw_df2.timestamp).alias('firstMark'),\\\n",
        "                                    max_(raw_df2.timestamp).alias('lastMark') )\n"
      ]
    },
    {
      "cell_type": "code",
      "execution_count": null,
      "metadata": {
        "colab": {
          "base_uri": "https://localhost:8080/"
        },
        "id": "1WRgypbsIiFP",
        "outputId": "64894e3e-6e75-40dd-bcc9-46dc092bbc7d"
      },
      "outputs": [
        {
          "output_type": "execute_result",
          "data": {
            "text/plain": [
              "270896"
            ]
          },
          "metadata": {},
          "execution_count": 31
        }
      ],
      "source": [
        "df_user_marks.count()"
      ]
    },
    {
      "cell_type": "code",
      "execution_count": null,
      "metadata": {
        "colab": {
          "base_uri": "https://localhost:8080/"
        },
        "id": "IywttlXnQEJj",
        "outputId": "c8a682e0-2df1-4952-8e3e-896abaff2a79"
      },
      "outputs": [
        {
          "output_type": "stream",
          "name": "stdout",
          "text": [
            "+------+-------------+------------------+-------------------+-------------------+\n",
            "|userId|numberOfMarks|           avgMark|          firstMark|           lastMark|\n",
            "+------+-------------+------------------+-------------------+-------------------+\n",
            "| 45811|        18276|3.1987579339023857|2015-12-15 06:59:27|2017-07-31 09:02:42|\n",
            "|  8659|         9279|3.2784243991809463|2001-08-05 18:10:38|2015-12-24 20:44:49|\n",
            "|270123|         7638|2.5974731605132235|2012-12-13 02:21:42|2017-08-04 03:03:56|\n",
            "|179792|         7515|3.2083166999334662|2006-10-10 06:41:32|2015-02-12 06:35:57|\n",
            "|228291|         7410|3.2201754385964914|2009-04-07 02:50:08|2017-08-04 00:28:21|\n",
            "|243443|         6320|1.5760284810126581|2000-04-07 13:13:16|2017-08-01 16:26:43|\n",
            "| 98415|         6094| 2.804972103708566|2002-07-05 04:57:01|2017-08-03 16:16:38|\n",
            "|229879|         6024| 3.498256972111554|2001-09-10 15:15:01|2017-08-04 02:08:42|\n",
            "| 98787|         5814|2.4380804953560373|2016-06-25 04:55:26|2017-03-30 21:30:34|\n",
            "|172224|         5701|3.7478512541659357|2000-08-03 08:06:12|2016-12-13 06:03:58|\n",
            "|230417|         5619|0.8632318917956932|2016-10-31 01:15:09|2017-08-02 02:42:08|\n",
            "| 70648|         5356| 3.011669156086632|2006-11-13 17:54:17|2011-10-04 01:46:59|\n",
            "|194690|         5206| 2.466192854398771|2006-01-09 07:59:42|2017-07-17 00:04:12|\n",
            "|107720|         5169|2.4049139098471657|2002-08-19 19:48:36|2002-11-25 17:50:15|\n",
            "| 24025|         4946|3.2052163364334816|2016-03-27 15:12:44|2016-03-27 16:10:44|\n",
            "|165352|         4921|1.1382849014427963|2016-01-07 16:18:19|2017-03-27 07:13:06|\n",
            "|243331|         4834|3.0393049234588334|1998-02-13 20:52:06|2017-08-02 02:43:20|\n",
            "|101276|         4834| 2.863260239966901|2016-05-09 08:52:03|2016-05-09 09:36:29|\n",
            "| 74275|         4815|2.9912772585669782|2012-09-27 01:52:35|2017-08-03 22:08:35|\n",
            "| 41190|         4785|3.2189132706374086|2008-09-07 22:07:23|2012-01-08 03:12:52|\n",
            "+------+-------------+------------------+-------------------+-------------------+\n",
            "only showing top 20 rows\n",
            "\n"
          ]
        }
      ],
      "source": [
        "df_user_marks.orderBy(df_user_marks.numberOfMarks.desc()).show()"
      ]
    },
    {
      "cell_type": "code",
      "execution_count": null,
      "metadata": {
        "id": "r78YDG2nVfZ2"
      },
      "outputs": [],
      "source": [
        "# count years from today to firstMark\n",
        "\n",
        "from pyspark.sql import functions as f\n",
        "from pyspark.sql import types as t\n",
        "\n",
        "df_min_max = df_user_marks.withColumn('yearsSpent', f.datediff(f.current_date(), df_user_marks.firstMark)/365.25 )"
      ]
    },
    {
      "cell_type": "code",
      "execution_count": null,
      "metadata": {
        "id": "hBaCIfrPuc0M"
      },
      "outputs": [],
      "source": [
        "# count avgTimeBetweenMarks in days\n",
        "\n",
        "df_min_max_avg = df_min_max.withColumn('avgTimeBetweenMarks', f.datediff(df_min_max.lastMark, df_min_max.firstMark)/(df_min_max.numberOfMarks-1) )"
      ]
    },
    {
      "cell_type": "code",
      "execution_count": null,
      "metadata": {
        "id": "flXieocU9Igm"
      },
      "outputs": [],
      "source": [
        "# Find favourite genre:\n",
        "\n",
        "\"\"\"\n",
        "My approach:\n",
        "1. Find string of all genres of movies watched by certain user\n",
        "2. convert string splitted by comma to list\n",
        "3. map list {Genre:Count}\n",
        "4. select the most frequent Genre by Count\n",
        "\"\"\""
      ]
    },
    {
      "cell_type": "code",
      "execution_count": null,
      "metadata": {
        "id": "7YXupauz9Ucf"
      },
      "outputs": [],
      "source": [
        "# 1 step\n",
        "from pyspark.sql.functions import sum as sum_\n",
        "\n",
        "fav_df = raw_df2.join(movie_profile, raw_df2.movieId==movie_profile.movieId)\\\n",
        "  .select(raw_df2.userId, movie_profile.genres)\\\n",
        "  .groupBy(raw_df2.userId)\\\n",
        "  .agg(f.concat_ws(\",\", f.collect_list(movie_profile.genres)).alias('allGenres'))\n"
      ]
    },
    {
      "cell_type": "code",
      "execution_count": null,
      "metadata": {
        "colab": {
          "base_uri": "https://localhost:8080/"
        },
        "id": "AMNYG2Jk7xTb",
        "outputId": "b48e1c3e-d7ef-45bc-ebbe-9eabee7a8a1a"
      },
      "outputs": [
        {
          "output_type": "stream",
          "name": "stdout",
          "text": [
            "+------+--------------------+\n",
            "|userId|           allGenres|\n",
            "+------+--------------------+\n",
            "|   100|Drama,Action,Thri...|\n",
            "|  1000|Comedy,Family,Mus...|\n",
            "| 10000|TV Movie,Drama,Hi...|\n",
            "|100000|Horror,Mystery,Ad...|\n",
            "|100004|Crime,Drama,Myste...|\n",
            "|100005|Drama,Thriller,Dr...|\n",
            "|100006|Drama,Comedy,Dram...|\n",
            "|100007|Drama,Thriller,Cr...|\n",
            "|100008|Crime,Drama,Thril...|\n",
            "|100009|Comedy,Thriller,C...|\n",
            "| 10001|Drama,Mystery,Act...|\n",
            "|100010|Drama,History,War...|\n",
            "|100014|Drama,Action,Crim...|\n",
            "|100015|Horror,Mystery,Ad...|\n",
            "|100020|Drama,Drama,Drama...|\n",
            "|100021|Drama,Thriller,Cr...|\n",
            "|100022|Crime,Drama,Myste...|\n",
            "|100025|Drama,Romance,Adv...|\n",
            "|100029|Adventure,Drama,F...|\n",
            "| 10003|Drama,Crime,Drama...|\n",
            "+------+--------------------+\n",
            "only showing top 20 rows\n",
            "\n"
          ]
        }
      ],
      "source": [
        "fav_df.show()"
      ]
    },
    {
      "cell_type": "code",
      "execution_count": null,
      "metadata": {
        "colab": {
          "base_uri": "https://localhost:8080/"
        },
        "id": "W8NsX3k5Gu4s",
        "outputId": "44c56ce9-02a5-4678-dea2-f3c2f7d99d27"
      },
      "outputs": [
        {
          "output_type": "stream",
          "name": "stdout",
          "text": [
            "+------+--------------------+\n",
            "|userId|         genresArray|\n",
            "+------+--------------------+\n",
            "|   100|[Drama, Action, T...|\n",
            "|  1000|[Comedy, Family, ...|\n",
            "| 10000|[TV Movie, Drama,...|\n",
            "|100000|[Horror, Mystery,...|\n",
            "|100004|[Crime, Drama, My...|\n",
            "|100005|[Drama, Thriller,...|\n",
            "|100006|[Drama, Comedy, D...|\n",
            "|100007|[Drama, Thriller,...|\n",
            "|100008|[Crime, Drama, Th...|\n",
            "|100009|[Comedy, Thriller...|\n",
            "| 10001|[Drama, Mystery, ...|\n",
            "|100010|[Drama, History, ...|\n",
            "|100014|[Drama, Action, C...|\n",
            "|100015|[Horror, Mystery,...|\n",
            "|100020|[Drama, Drama, Dr...|\n",
            "|100021|[Drama, Thriller,...|\n",
            "|100022|[Crime, Drama, My...|\n",
            "|100025|[Drama, Romance, ...|\n",
            "|100029|[Adventure, Drama...|\n",
            "| 10003|[Drama, Crime, Dr...|\n",
            "+------+--------------------+\n",
            "only showing top 20 rows\n",
            "\n"
          ]
        }
      ],
      "source": [
        "# 2 step\n",
        "\n",
        "fav_df_list = fav_df.select(fav_df.userId, split(fav_df.allGenres, \",\").alias(\"genresArray\")).drop(\"allGenres\")\n",
        "fav_df_list.show()"
      ]
    },
    {
      "cell_type": "code",
      "execution_count": null,
      "metadata": {
        "colab": {
          "base_uri": "https://localhost:8080/"
        },
        "id": "0__wkkfHM4dd",
        "outputId": "0342e4e0-f90a-474a-9312-1707b202006e"
      },
      "outputs": [
        {
          "output_type": "execute_result",
          "data": {
            "text/plain": [
              "265049"
            ]
          },
          "metadata": {},
          "execution_count": 41
        }
      ],
      "source": [
        "fav_df_list.count()"
      ]
    },
    {
      "cell_type": "code",
      "execution_count": null,
      "metadata": {
        "id": "OJYg2m8APGAP",
        "colab": {
          "base_uri": "https://localhost:8080/"
        },
        "outputId": "f1debcf7-69a2-4b75-b4fa-283b3526cfd3"
      },
      "outputs": [
        {
          "output_type": "stream",
          "name": "stdout",
          "text": [
            "+------+--------------------+--------------------+--------------------+--------------------+-------------+\n",
            "|userId|         genresArray|                Dist|              Counts|                 Map|favoriteGenre|\n",
            "+------+--------------------+--------------------+--------------------+--------------------+-------------+\n",
            "|   100|[Drama, Action, T...|[Drama, Action, T...|     [2, 1, 1, 1, 1]|[{Drama, 2}, {Act...|        Drama|\n",
            "|  1000|[Comedy, Family, ...|[Comedy, Family, ...|  [1, 2, 1, 3, 1, 1]|[{Comedy, 1}, {Fa...|        Drama|\n",
            "| 10000|[TV Movie, Drama,...|[TV Movie, Drama,...|        [1, 2, 1, 1]|[{TV Movie, 1}, {...|        Drama|\n",
            "|100000|[Horror, Mystery,...|[Horror, Mystery,...|[2, 3, 5, 11, 1, ...|[{Horror, 2}, {My...|        Drama|\n",
            "|100004|[Crime, Drama, My...|[Crime, Drama, My...|[27, 81, 15, 33, ...|[{Crime, 27}, {Dr...|        Drama|\n",
            "|100005|[Drama, Thriller,...|[Drama, Thriller,...|        [3, 1, 1, 1]|[{Drama, 3}, {Thr...|        Drama|\n",
            "|100006|[Drama, Comedy, D...|[Drama, Comedy, R...|[6, 4, 1, 1, 1, 2...|[{Drama, 6}, {Com...|        Drama|\n",
            "|100007|[Drama, Thriller,...|[Drama, Thriller,...|[5, 4, 2, 3, 1, 1...|[{Drama, 5}, {Thr...|        Drama|\n",
            "|100008|[Crime, Drama, Th...|[Crime, Drama, Th...|[39, 99, 45, 5, 3...|[{Crime, 39}, {Dr...|        Drama|\n",
            "|100009|[Comedy, Thriller...|[Comedy, Thriller...|[4, 2, 1, 6, 2, 2...|[{Comedy, 4}, {Th...|        Drama|\n",
            "| 10001|[Drama, Mystery, ...|[Drama, Mystery, ...|[4, 2, 1, 1, 3, 1...|[{Drama, 4}, {Mys...|        Drama|\n",
            "|100010|[Drama, History, ...|[Drama, History, ...|[15, 2, 1, 4, 1, ...|[{Drama, 15}, {Hi...|        Drama|\n",
            "|100014|[Drama, Action, C...|[Drama, Action, C...|[2, 2, 2, 4, 2, 1...|[{Drama, 2}, {Act...|       Comedy|\n",
            "|100015|[Horror, Mystery,...|[Horror, Mystery,...|[1, 2, 1, 5, 1, 2...|[{Horror, 1}, {My...|        Drama|\n",
            "|100020|[Drama, Drama, Dr...|[Drama, Thriller,...|[14, 4, 5, 6, 1, ...|[{Drama, 14}, {Th...|        Drama|\n",
            "|100021|[Drama, Thriller,...|[Drama, Thriller,...|[473, 226, 147, 7...|[{Drama, 473}, {T...|        Drama|\n",
            "|100022|[Crime, Drama, My...|[Crime, Drama, My...|[22, 75, 15, 30, ...|[{Crime, 22}, {Dr...|        Drama|\n",
            "|100025|[Drama, Romance, ...|[Drama, Romance, ...|[31, 12, 6, 2, 15...|[{Drama, 31}, {Ro...|        Drama|\n",
            "|100029|[Adventure, Drama...|[Adventure, Drama...|[2, 8, 2, 1, 2, 3...|[{Adventure, 2}, ...|        Drama|\n",
            "| 10003|[Drama, Crime, Dr...|[Drama, Crime, My...|[17, 8, 4, 5, 6, ...|[{Drama, 17}, {Cr...|        Drama|\n",
            "+------+--------------------+--------------------+--------------------+--------------------+-------------+\n",
            "only showing top 20 rows\n",
            "\n"
          ]
        }
      ],
      "source": [
        "# 3 step\n",
        "\n",
        "temp = (fav_df_list.withColumn(\"Dist\",f.array_distinct(\"genresArray\"))\n",
        "              .withColumn(\"Counts\",f.expr(\"\"\"transform(Dist,x->\n",
        "                           aggregate(genresArray,0,(acc,y)-> IF (y=x, acc+1,acc))\n",
        "                                      )\"\"\"))\n",
        "              .withColumn(\"Map\",f.arrays_zip(\"Dist\",\"Counts\")\n",
        "              ))\n",
        "out = temp.withColumn(\"favoriteGenre\",\n",
        "                    f.expr(\"\"\"element_at(array_sort(Map,(first,second)->\n",
        "         CASE WHEN first['Counts']>second['Counts'] THEN -1 ELSE 1 END),1)['Dist']\"\"\"))\n",
        "out.show()"
      ]
    },
    {
      "cell_type": "code",
      "execution_count": null,
      "metadata": {
        "id": "9YUemgIsWpVN"
      },
      "outputs": [],
      "source": [
        "user_profile = df_min_max_avg.join(out, df_min_max_avg.userId==out.userId)\\\n",
        "  .select(df_min_max_avg.userId, df_min_max_avg.numberOfMarks,\\\n",
        "          df_min_max_avg.yearsSpent, df_min_max_avg.avgMark,\\\n",
        "          df_min_max_avg.avgTimeBetweenMarks, out.favoriteGenre )"
      ]
    },
    {
      "cell_type": "code",
      "execution_count": null,
      "metadata": {
        "colab": {
          "base_uri": "https://localhost:8080/"
        },
        "id": "nXcko6a1XYlZ",
        "outputId": "dcf1f457-58c1-4d56-e6e8-9c5c5c20bbd6"
      },
      "outputs": [
        {
          "output_type": "stream",
          "name": "stdout",
          "text": [
            "+------+-------------+------------------+------------------+--------------------+---------------+\n",
            "|userId|numberOfMarks|        yearsSpent|           avgMark| avgTimeBetweenMarks|  favoriteGenre|\n",
            "+------+-------------+------------------+------------------+--------------------+---------------+\n",
            "|   100|            3|12.714579055441478|3.3333333333333335|                 0.0|          Drama|\n",
            "|  1000|            6|21.284052019164957|               3.5|                 0.0|          Drama|\n",
            "| 10000|           10| 4.725530458590007|              4.25|                 0.0|          Drama|\n",
            "|100005|            5| 6.176591375770021|               4.4|                 0.0|          Drama|\n",
            "|100006|           17| 9.949349760438055| 3.676470588235294|                 0.0|          Drama|\n",
            "|100007|           18| 15.84394250513347|              3.25|                 0.0|          Drama|\n",
            "|100008|          307| 24.18069815195072| 3.996742671009772| 0.08496732026143791|          Drama|\n",
            "|100009|           21|13.905544147843942|3.3333333333333335|                 0.0|          Drama|\n",
            "| 10001|           11| 6.316221765913758|4.2727272727272725|                 0.0|          Drama|\n",
            "|100010|           36|24.908966461327857|3.8055555555555554|                 0.0|          Drama|\n",
            "|100014|           15|11.520876112251882|2.7666666666666666|                 0.0|         Comedy|\n",
            "|100020|          100|  6.12457221081451|             3.425|0.010101010101010102|          Drama|\n",
            "|100021|         2216|16.520191649555098|3.1656137184115525|0.009932279909706547|          Drama|\n",
            "|100022|          292|19.802874743326488| 3.914383561643836|                 0.0|          Drama|\n",
            "|100025|          126| 21.56605065023956|3.5317460317460316|                 0.0|          Drama|\n",
            "|100029|           20|17.727583846680357|               3.5|                 0.0|          Drama|\n",
            "| 10003|           50|14.858316221765914|              2.53|                 0.0|          Drama|\n",
            "|100031|           53|   21.782340862423| 4.018867924528302|                 0.0|          Drama|\n",
            "|100039|           50|16.134154688569474|              3.42|                 0.0|          Drama|\n",
            "|100040|           16|13.708418891170432|               4.0|                 0.0|Science Fiction|\n",
            "+------+-------------+------------------+------------------+--------------------+---------------+\n",
            "only showing top 20 rows\n",
            "\n"
          ]
        }
      ],
      "source": [
        "# final UserProfile dataframe\n",
        "\n",
        "user_profile.show()"
      ]
    },
    {
      "cell_type": "code",
      "execution_count": null,
      "metadata": {
        "id": "iD--S6UhN-A2",
        "colab": {
          "base_uri": "https://localhost:8080/"
        },
        "outputId": "540d3123-d271-4740-8ddb-9a3f7caaa6ad"
      },
      "outputs": [
        {
          "output_type": "execute_result",
          "data": {
            "text/plain": [
              "265049"
            ]
          },
          "metadata": {},
          "execution_count": 45
        }
      ],
      "source": [
        "user_profile.count()"
      ]
    },
    {
      "cell_type": "code",
      "execution_count": null,
      "metadata": {
        "id": "PI5YDQ5LZYBY"
      },
      "outputs": [],
      "source": [
        "# !pip install pyspark==<compatible-spark-version>\n",
        "# !pyspark --packages io.delta:delta-core_2.12:1.1.0 --conf \"spark.sql.extensions=io.delta.sql.DeltaSparkSessionExtension\" --conf \"spark.sql.catalog.spark_catalog=org.apache.spark.sql.delta.catalog.DeltaCatalog\""
      ]
    },
    {
      "cell_type": "code",
      "execution_count": null,
      "metadata": {
        "id": "cyRGlY9qY7pN"
      },
      "outputs": [],
      "source": [
        "# user_df.write.format(\"delta\").mode(\"append\").save(\"/tmp/delta/UserProfile\")\n",
        "# user_df.write.format(\"delta\").mode(\"append\").saveAsTable(\"default.UserProfile\")"
      ]
    }
  ],
  "metadata": {
    "colab": {
      "collapsed_sections": [],
      "name": "task.ipynb",
      "provenance": []
    },
    "kernelspec": {
      "display_name": "Python 3",
      "name": "python3"
    },
    "language_info": {
      "name": "python"
    }
  },
  "nbformat": 4,
  "nbformat_minor": 0
}